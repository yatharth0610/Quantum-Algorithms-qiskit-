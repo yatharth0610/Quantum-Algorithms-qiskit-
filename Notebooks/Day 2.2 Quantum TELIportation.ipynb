{
 "cells": [
  {
   "cell_type": "markdown",
   "metadata": {
    "colab_type": "text",
    "id": "fe_pxf-Cii76"
   },
   "source": [
    "# Quantum teleportation "
   ]
  },
  {
   "cell_type": "code",
   "execution_count": 1,
   "metadata": {
    "colab": {},
    "colab_type": "code",
    "id": "2bd7Epffii77"
   },
   "outputs": [],
   "source": [
    "from qiskit import *\n",
    "from qiskit.tools.jupyter import *\n",
    "from qiskit.visualization import *\n",
    "import matplotlib.pyplot as plotter\n",
    "import numpy as np\n",
    "from IPython.display import display, Math, Latex\n",
    "%matplotlib inline\n",
    "# Loading your IBM Q account(s)\n",
    "provider = IBMQ.load_account()"
   ]
  },
  {
   "cell_type": "markdown",
   "metadata": {
    "colab_type": "text",
    "id": "KNV3NPv-ii7_"
   },
   "source": [
    "We already learned about the Bell states and how quantum entaglement works in case of quibts. But how to exploit this phenomenon to our advantage / how to do something cool? How about quantum teleportation? Today we will understand teleportation and also its truths - how efficient? faster than light?"
   ]
  },
  {
   "cell_type": "markdown",
   "metadata": {
    "colab_type": "text",
    "id": "KPcwOby1ii7_"
   },
   "source": [
    "Let's see the most basic example - teleporting a single qubit. In the Bell states, we saw that the 2 qubits were totally dependant on each other. Measuring one qubit instantly tells us about te other qubit, no matter how far they are, as long as they are entangled.  \n",
    "Alice and Bob (the world's most famous cryptographic couple) met long ago but now live far apart. While together they generated an EPR pair, each taking one qubit of the EPR pair when they separated. Many years later, Bob is in hiding, and Alice’s mission, should she choose to accept it, is to deliver a qubit $|\\psi\\rangle$ to Bob. She does not know the state of the qubit, and moreover can only send classical information to Bob.\n",
    "So let's make an EPR pair and give it to Alice and Bob!"
   ]
  },
  {
   "cell_type": "code",
   "execution_count": 2,
   "metadata": {
    "colab": {},
    "colab_type": "code",
    "id": "FszVBZRnii8A"
   },
   "outputs": [
    {
     "data": {
      "text/plain": [
       "<qiskit.circuit.instructionset.InstructionSet at 0x7f798844e710>"
      ]
     },
     "execution_count": 2,
     "metadata": {},
     "output_type": "execute_result"
    }
   ],
   "source": [
    "qr = QuantumRegister(3)\n",
    "crz = ClassicalRegister(1)\n",
    "crx = ClassicalRegister(2)  # we will need seperates registers for using 'c_if' later.\n",
    "qc = QuantumCircuit(qr,crz,crx)\n",
    "qc.x(0)\n",
    "qc.h(0) # 'psi' can't be unknown to us as we are creating it here. Let us take '-' state as our 'psi'\n",
    "# We will verify later if the '-' is been teleported.\n",
    "\n",
    "qc.h(1)\n",
    "qc.cx(1,2) # creating a bell state\n",
    "qc.barrier() # Use barrier to separate steps, everything till this barrier is just intialisation."
   ]
  },
  {
   "cell_type": "markdown",
   "metadata": {
    "colab_type": "text",
    "id": "MQcZZFy5ii8C"
   },
   "source": [
    "The state to be teleported is $|\\psi\\rangle=\\alpha|0\\rangle+\\beta|1\\rangle$, where $\\alpha$ and $\\beta$ are unknown amplitudes. The state input into the circuit $|\\psi_0\\rangle$ is   \n",
    "$$|\\psi_0\\rangle=|\\psi\\rangle|\\beta_{00}\\rangle$$\n",
    "The notation $|\\beta_{00}\\rangle$ represents the bell state prepared with the intial qubit state $|00\\rangle$ that is $\\frac{|00\\rangle + |11\\rangle}{\\sqrt{2}}$.\n",
    "<img src = 'https://raw.githubusercontent.com/mnp-club/Quantum_Computing_Workshop_2020/master/images/telep.jpeg' width = '800' height = '800'> </img>  \n",
    "  \n",
    "The two top lines represent Alice’s system, while the bottom line is Bob’s system. The meters represent measurement, and the double lines coming out of them carry classical bits (recall that single lines denote qubits).\n",
    "$$|\\psi_0\\rangle=\\frac{1}{\\sqrt{2}}\\left[\\alpha|0\\rangle(|00\\rangle+|11\\rangle) + \\beta|1\\rangle(|00\\rangle+|11\\rangle)\\right]$$\n",
    "where we use the convention that the ﬁrst two qubits (on the left) belong to Alice, and the third qubit to Bob. As we explained previously, Alice’s second qubit and Bob’s qubit start out in an state. Alice sends her qubits through a CNOT gate, obtaining:\n",
    "$$|\\psi_1\\rangle=\\frac{1}{\\sqrt{2}}\\left[\\alpha|0\\rangle(|00\\rangle+|11\\rangle) + \\beta|1\\rangle(|10\\rangle+|01\\rangle)\\right]$$\n"
   ]
  },
  {
   "cell_type": "code",
   "execution_count": 3,
   "metadata": {
    "colab": {},
    "colab_type": "code",
    "id": "vIcHUv9-ii8D"
   },
   "outputs": [
    {
     "data": {
      "text/plain": [
       "<qiskit.circuit.instructionset.InstructionSet at 0x7f7905376c90>"
      ]
     },
     "execution_count": 3,
     "metadata": {},
     "output_type": "execute_result"
    }
   ],
   "source": [
    "qc.cx(0,1) # '0' and '1' are with Alice and '2' is with Bob.\n",
    "# psi_1 prepared."
   ]
  },
  {
   "cell_type": "markdown",
   "metadata": {
    "colab_type": "text",
    "id": "KF_Dwp9Fii8F"
   },
   "source": [
    "She then sends the ﬁrst qubit through a Hadamard gate, obtaining:\n",
    "$$|\\psi_2\\rangle=\\frac{1}{2}\\left[\\alpha(|0\\rangle +|1\\rangle)(|00\\rangle+|11\\rangle) + \\beta(|0\\rangle-|1\\rangle)(|10\\rangle+|01\\rangle)\\right]$$\n",
    "This state may be re-written in the following way, simply by regrouping terms: \n",
    "$$|\\psi_2\\rangle=\\frac{1}{2}[|00\\rangle(\\alpha|0\\rangle+\\beta|1\\rangle)+|01\\rangle(\\alpha|1\\rangle+\\beta|0\\rangle)+|10\\rangle(\\alpha|0\\rangle-\\beta|1\\rangle+|11\\rangle(\\alpha|1\\rangle-\\beta|0\\rangle)]$$\n"
   ]
  },
  {
   "cell_type": "code",
   "execution_count": 4,
   "metadata": {
    "colab": {},
    "colab_type": "code",
    "id": "A29LqRIyii8G"
   },
   "outputs": [
    {
     "data": {
      "text/plain": [
       "<qiskit.circuit.instructionset.InstructionSet at 0x7f79053c7f10>"
      ]
     },
     "execution_count": 4,
     "metadata": {},
     "output_type": "execute_result"
    }
   ],
   "source": [
    "qc.h(0)\n",
    "# psi_2 prepared.\n",
    "qc.barrier()"
   ]
  },
  {
   "cell_type": "markdown",
   "metadata": {
    "colab_type": "text",
    "id": "a9_mc0g9ii8I"
   },
   "source": [
    "This expression naturally breaks down into four terms. The ﬁrst term has Alice’s qubits in the state $|00\\rangle$, and Bob’s qubit in the state $\\alpha|0\\rangle+\\beta|1\\rangle$ – which is the original state $|\\psi\\rangle$.\\\\\n",
    " If Alice performs a measurement and obtains the result 00 then Bob’s system will be in the state $|\\psi\\rangle$.  Similarly, from the previous expression we can read off Bob’s post measurement state, given the result of Alice’s measurement:\n",
    " \n",
    "$$00 \\mapsto |\\psi_3\\rangle \\equiv \\alpha|0\\rangle+\\beta|1\\rangle$$ \n",
    "\n",
    "$$01 \\mapsto |\\psi_3\\rangle \\equiv \\alpha|1\\rangle+\\beta|0\\rangle$$   \n",
    "\n",
    "$$10 \\mapsto |\\psi_3\\rangle \\equiv \\alpha|0\\rangle-\\beta|1\\rangle$$  \n",
    "\n",
    "$$11 \\mapsto |\\psi_3\\rangle \\equiv \\alpha|1\\rangle-\\beta|0\\rangle$$     "
   ]
  },
  {
   "cell_type": "code",
   "execution_count": 5,
   "metadata": {
    "colab": {},
    "colab_type": "code",
    "id": "hUmlXhMeii8I"
   },
   "outputs": [
    {
     "data": {
      "image/png": "[encoded data removed]",
      "text/plain": [
       "<Figure size 670.628x325.08 with 1 Axes>"
      ]
     },
     "execution_count": 5,
     "metadata": {},
     "output_type": "execute_result"
    }
   ],
   "source": [
    "qc.measure(0,0)\n",
    "qc.measure(1,1)\n",
    "qc.draw (output = 'mpl')"
   ]
  },
  {
   "cell_type": "markdown",
   "metadata": {
    "colab_type": "text",
    "id": "SxtE3cJoii8L"
   },
   "source": [
    "Bob can ‘ﬁx up’ his state, recovering $|\\psi\\rangle$, by applying the appropriate quantum gate. For example, in the case where the measurement yields $00$, Bob doesn’t need to do anything. If the measurement is $01$ then Bob can ﬁx up his state by applying the $X$ gate. If the measurement is $10$ then Bob can ﬁx up his state by applying the $Z$ gate. If the measurement is $11$ then Bob can ﬁx up his state by applying ﬁrst an $X$ and then a $Z$ gate.\n",
    "Summing up, Bob needs to apply the transformation $Z^{M_1}X^{M_2}$(note how time goes from left to right in circuit diagrams, but in matrix products terms on the right happen ﬁrst) to his qubit, and he will recover the state $|\\psi\\rangle$.  \n",
    "\n",
    "Here we got $ M_1 = 0$ and $M_2 = 1$. So lets do the final operation on the third state which Bob has to get $|\\psi\\rangle$. "
   ]
  },
  {
   "cell_type": "code",
   "execution_count": 6,
   "metadata": {
    "colab": {},
    "colab_type": "code",
    "id": "48EGahV2ii8M"
   },
   "outputs": [
    {
     "data": {
      "image/png": "[encoded data removed]",
      "text/plain": [
       "<Figure size 791.028x325.08 with 1 Axes>"
      ]
     },
     "execution_count": 6,
     "metadata": {},
     "output_type": "execute_result"
    }
   ],
   "source": [
    "qc.x(2).c_if(crx,1)  # 'c_if' compares a classical register with a value (either 0 or 1) and performs the \n",
    "qc.z(2).c_if(crz,1)  # operation if they are equal.\n",
    "\n",
    "qc.draw('mpl')\n",
    "# be careful of the order of applying X and Z!"
   ]
  },
  {
   "cell_type": "markdown",
   "metadata": {
    "colab_type": "text",
    "id": "OL_wiKzOii8O"
   },
   "source": [
    "Now we have got our state $|\\psi\\rangle$ teleported to Bob! But how do we check it? We started with $|\\psi\\rangle$ as  $|-\\rangle$ state. If we apply H gate to  $|\\psi\\rangle$, it will give us $|1\\rangle$ state. Then we can measure to verify if we got a $|1\\rangle$ by plotting a histogram. "
   ]
  },
  {
   "cell_type": "code",
   "execution_count": 7,
   "metadata": {
    "colab": {},
    "colab_type": "code",
    "id": "dz-C4Pfgii8P"
   },
   "outputs": [
    {
     "data": {
      "text/plain": [
       "<qiskit.circuit.instructionset.InstructionSet at 0x7f7905016fd0>"
      ]
     },
     "execution_count": 7,
     "metadata": {},
     "output_type": "execute_result"
    }
   ],
   "source": [
    "qc.h(2)\n",
    "qc.measure(2,crx[1])"
   ]
  },
  {
   "cell_type": "code",
   "execution_count": 8,
   "metadata": {
    "colab": {},
    "colab_type": "code",
    "id": "wSywG7v6ii8R"
   },
   "outputs": [
    {
     "name": "stdout",
     "output_type": "stream",
     "text": [
      "{'10 0': 2671, '11 0': 2339, '10 1': 2494, '11 1': 2496}\n"
     ]
    },
    {
     "data": {
      "image/png": "[encoded data removed]",
      "text/plain": [
       "<Figure size 504x360 with 1 Axes>"
      ]
     },
     "execution_count": 8,
     "metadata": {},
     "output_type": "execute_result"
    }
   ],
   "source": [
    "def run_circuit(qc):\n",
    "    backend = Aer.get_backend('qasm_simulator') # we choose the simulator as our backend\n",
    "    result = execute(qc, backend, shots = 10000).result() # we run the simulation\n",
    "    counts = result.get_counts() # we get the counts\n",
    "    return counts\n",
    "\n",
    "counts = run_circuit(qc)\n",
    "print(counts)\n",
    "plot_histogram(counts)\n",
    "# the output should be '1xx' if the teleportation is successful."
   ]
  },
  {
   "cell_type": "markdown",
   "metadata": {
    "colab_type": "text",
    "id": "qlsRSBF0ii8T"
   },
   "source": [
    "Depending on Alice’s measurement outcome, Bob’s qubit will end up in one of these four possible states. Of course, to know which state it is in, Bob must be told the result of Alice’s measurement (**classically**) - which prevents teleportation from transmitting information faster than light.  \n",
    "That's the beauty of quantum mechanics - even though the state is decided instantly when the other qubit present in the EPR pair is measured, it would take a certain minimum time (restriction being the speed of light) for the 'spooky action at a distance' to help us teleport."
   ]
  },
  {
   "cell_type": "markdown",
   "metadata": {
    "colab_type": "text",
    "id": "OurPgXvfii8U"
   },
   "source": [
    "## Your task\n",
    " \n",
    "(Hints follow)\n",
    "You may think this is such a narrow topic; only one algorithm, nothing else to discuss.  \n",
    "\n",
    "<img src = \"https://raw.githubusercontent.com/mnp-club/Quantum_Computing_Workshop_2020/master/images/hold.jpg\" width = '300' height = '300' ></img>  \n",
    "And if you think this was an **incorrect use** of the meme you should definitely try this question.  \n",
    "No teleportation, nothing. Home alone, Alice has 2 qubits as an EPR pair ( let's take $|\\beta_{00}\\rangle$). Her neighbour Skyler arrives at the door with an evil intention to apply a Pauli gate to one of her qubits. She leaves with a smirk which increases Alice's worry, as she knew Skyler definitely didn't come by just to discuss about **global warming**. She is paranoid and wants to know if Skyler messed with her EPR pair and if she did, which pauli gate she applied. However, she can measure only once because, of course, the qubits would no longer be in Bell state after that. She also doesn't have any extra qubits with her. Write a code which determines the Pauli gate Skyler applied exactly. You can plot histogram for measurement.\n",
    "\n",
    "One last suggestion - 'It doesn't matter if the process serves its initial purpose, as long as it serves some other.'\n",
    "\n",
    " (**6 points**)"
   ]
  },
  {
   "cell_type": "code",
   "execution_count": 10,
   "metadata": {
    "colab": {},
    "colab_type": "code",
    "id": "J9P1wNuZii8U",
    "scrolled": true
   },
   "outputs": [
    {
     "name": "stdout",
     "output_type": "stream",
     "text": [
      "No gate was applied :)\n",
      "{'00': 10000}\n"
     ]
    },
    {
     "data": {
      "image/png": "[encoded data removed]",
      "text/plain": [
       "<Figure size 504x360 with 1 Axes>"
      ]
     },
     "execution_count": 10,
     "metadata": {},
     "output_type": "execute_result"
    }
   ],
   "source": [
    "qc1 = QuantumCircuit(2,2)\n",
    "\n",
    "def create_bell_state(qc, a, b):\n",
    "    qc.h(a)\n",
    "    qc.cx(a,b)\n",
    "\n",
    "def apply_pauli_gate(qc, n, gate):\n",
    "    if (gate == 'X'):\n",
    "        qc.x(n)\n",
    "    elif (gate == 'Y'):\n",
    "        qc.y(n)\n",
    "    elif (gate == 'Z'):\n",
    "        qc.z(n)\n",
    "        \n",
    "create_bell_state(qc1, 0, 1)\n",
    "# Apply the pauli gate of your choice by using the custom function. Give the second argument as the qubit \n",
    "# you want to apply the gate on and third argument as the pauli gate as a upper-case-char data type\n",
    "# apply_pauli_gate(qc1, 1, 'Y')\n",
    "\n",
    "qc1.cx(0,1)\n",
    "qc1.h(0)\n",
    "\n",
    "qc1.measure(0,0)\n",
    "qc1.measure(1,1)\n",
    "\n",
    "def run_circuit(qc):\n",
    "    backend = Aer.get_backend('qasm_simulator') # we choose the simulator as our backend\n",
    "    result = execute(qc, backend, shots = 10000).result() # we run the simulation\n",
    "    counts = result.get_counts() # we get the counts\n",
    "    return counts\n",
    "\n",
    "counts = run_circuit(qc1)\n",
    "\n",
    "if list(counts.keys())[0] == '10':\n",
    "    print('X gate was applied')\n",
    "elif list(counts.keys())[0] == '01':\n",
    "    print('Z gate was applied')\n",
    "elif list(counts.keys())[0] == '11':\n",
    "    print('Y gate was applied')\n",
    "else:\n",
    "    print ('No gate was applied :)')\n",
    "\n",
    "print(counts)\n",
    "plot_histogram(counts)"
   ]
  },
  {
   "cell_type": "code",
   "execution_count": null,
   "metadata": {},
   "outputs": [],
   "source": []
  }
 ],
 "metadata": {
  "colab": {
   "collapsed_sections": [],
   "name": "Day 2.2 Quantum TELIportation.ipynb",
   "provenance": []
  },
  "kernelspec": {
   "display_name": "Python 3",
   "language": "python",
   "name": "python3"
  },
  "language_info": {
   "codemirror_mode": {
    "name": "ipython",
    "version": 3
   },
   "file_extension": ".py",
   "mimetype": "text/x-python",
   "name": "python",
   "nbconvert_exporter": "python",
   "pygments_lexer": "ipython3",
   "version": "3.7.8"
  }
 },
 "nbformat": 4,
 "nbformat_minor": 1
}
